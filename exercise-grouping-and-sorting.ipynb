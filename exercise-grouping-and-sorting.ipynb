{
 "cells": [
  {
   "cell_type": "markdown",
   "id": "1479b971",
   "metadata": {
    "papermill": {
     "duration": 0.005708,
     "end_time": "2022-08-07T18:46:38.316511",
     "exception": false,
     "start_time": "2022-08-07T18:46:38.310803",
     "status": "completed"
    },
    "tags": []
   },
   "source": [
    "**This notebook is an exercise in the [Pandas](https://www.kaggle.com/learn/pandas) course.  You can reference the tutorial at [this link](https://www.kaggle.com/residentmario/grouping-and-sorting).**\n",
    "\n",
    "---\n"
   ]
  },
  {
   "cell_type": "markdown",
   "id": "32f97cfd",
   "metadata": {
    "papermill": {
     "duration": 0.004728,
     "end_time": "2022-08-07T18:46:38.326178",
     "exception": false,
     "start_time": "2022-08-07T18:46:38.321450",
     "status": "completed"
    },
    "tags": []
   },
   "source": [
    "# Introduction\n",
    "\n",
    "In these exercises we'll apply groupwise analysis to our dataset.\n",
    "\n",
    "Run the code cell below to load the data before running the exercises."
   ]
  },
  {
   "cell_type": "code",
   "execution_count": 1,
   "id": "f7fce12b",
   "metadata": {
    "execution": {
     "iopub.execute_input": "2022-08-07T18:46:38.337898Z",
     "iopub.status.busy": "2022-08-07T18:46:38.337406Z",
     "iopub.status.idle": "2022-08-07T18:46:40.780126Z",
     "shell.execute_reply": "2022-08-07T18:46:40.778592Z"
    },
    "papermill": {
     "duration": 2.451498,
     "end_time": "2022-08-07T18:46:40.782784",
     "exception": false,
     "start_time": "2022-08-07T18:46:38.331286",
     "status": "completed"
    },
    "tags": []
   },
   "outputs": [
    {
     "name": "stdout",
     "output_type": "stream",
     "text": [
      "Setup complete.\n"
     ]
    }
   ],
   "source": [
    "import pandas as pd\n",
    "\n",
    "reviews = pd.read_csv(\"../input/wine-reviews/winemag-data-130k-v2.csv\", index_col=0)\n",
    "#pd.set_option(\"display.max_rows\", 5)\n",
    "\n",
    "from learntools.core import binder; binder.bind(globals())\n",
    "from learntools.pandas.grouping_and_sorting import *\n",
    "print(\"Setup complete.\")"
   ]
  },
  {
   "cell_type": "markdown",
   "id": "0be5844f",
   "metadata": {
    "papermill": {
     "duration": 0.004517,
     "end_time": "2022-08-07T18:46:40.792626",
     "exception": false,
     "start_time": "2022-08-07T18:46:40.788109",
     "status": "completed"
    },
    "tags": []
   },
   "source": [
    "# Exercises"
   ]
  },
  {
   "cell_type": "markdown",
   "id": "35729c20",
   "metadata": {
    "papermill": {
     "duration": 0.004418,
     "end_time": "2022-08-07T18:46:40.801685",
     "exception": false,
     "start_time": "2022-08-07T18:46:40.797267",
     "status": "completed"
    },
    "tags": []
   },
   "source": [
    "## 1.\n",
    "Who are the most common wine reviewers in the dataset? Create a `Series` whose index is the `taster_twitter_handle` category from the dataset, and whose values count how many reviews each person wrote."
   ]
  },
  {
   "cell_type": "code",
   "execution_count": 2,
   "id": "76176a4d",
   "metadata": {
    "execution": {
     "iopub.execute_input": "2022-08-07T18:46:40.812454Z",
     "iopub.status.busy": "2022-08-07T18:46:40.812169Z",
     "iopub.status.idle": "2022-08-07T18:46:40.832572Z",
     "shell.execute_reply": "2022-08-07T18:46:40.831891Z"
    },
    "papermill": {
     "duration": 0.027858,
     "end_time": "2022-08-07T18:46:40.834203",
     "exception": false,
     "start_time": "2022-08-07T18:46:40.806345",
     "status": "completed"
    },
    "tags": []
   },
   "outputs": [
    {
     "data": {
      "application/javascript": [
       "parent.postMessage({\"jupyterEvent\": \"custom.exercise_interaction\", \"data\": {\"outcomeType\": 1, \"valueTowardsCompletion\": 0.16666666666666666, \"interactionType\": 1, \"questionType\": 1, \"questionId\": \"1_ReviewsWritten\", \"learnToolsVersion\": \"0.3.4\", \"failureMessage\": \"\", \"exceptionClass\": \"\", \"trace\": \"\"}}, \"*\")"
      ],
      "text/plain": [
       "<IPython.core.display.Javascript object>"
      ]
     },
     "metadata": {},
     "output_type": "display_data"
    },
    {
     "data": {
      "text/markdown": [
       "<span style=\"color:#33cc33\">Correct:</span> \n",
       "\n",
       "\n",
       "```python\n",
       "reviews_written = reviews.groupby('taster_twitter_handle').size()\n",
       "```\n",
       "or\n",
       "```python\n",
       "reviews_written = reviews.groupby('taster_twitter_handle').taster_twitter_handle.count()\n",
       "```\n"
      ],
      "text/plain": [
       "Correct: \n",
       "\n",
       "\n",
       "```python\n",
       "reviews_written = reviews.groupby('taster_twitter_handle').size()\n",
       "```\n",
       "or\n",
       "```python\n",
       "reviews_written = reviews.groupby('taster_twitter_handle').taster_twitter_handle.count()\n",
       "```"
      ]
     },
     "metadata": {},
     "output_type": "display_data"
    }
   ],
   "source": [
    "# Your code here\n",
    "reviews_written = reviews.groupby(\"taster_twitter_handle\").size()\n",
    "\n",
    "# Check your answer\n",
    "q1.check()"
   ]
  },
  {
   "cell_type": "code",
   "execution_count": 3,
   "id": "4989b2c2",
   "metadata": {
    "execution": {
     "iopub.execute_input": "2022-08-07T18:46:40.846253Z",
     "iopub.status.busy": "2022-08-07T18:46:40.845723Z",
     "iopub.status.idle": "2022-08-07T18:46:40.849522Z",
     "shell.execute_reply": "2022-08-07T18:46:40.848681Z"
    },
    "papermill": {
     "duration": 0.012171,
     "end_time": "2022-08-07T18:46:40.851485",
     "exception": false,
     "start_time": "2022-08-07T18:46:40.839314",
     "status": "completed"
    },
    "tags": []
   },
   "outputs": [],
   "source": [
    "#q1.hint()\n",
    "#q1.solution()"
   ]
  },
  {
   "cell_type": "markdown",
   "id": "627c55f1",
   "metadata": {
    "papermill": {
     "duration": 0.004724,
     "end_time": "2022-08-07T18:46:40.861343",
     "exception": false,
     "start_time": "2022-08-07T18:46:40.856619",
     "status": "completed"
    },
    "tags": []
   },
   "source": [
    "## 2.\n",
    "What is the best wine I can buy for a given amount of money? Create a `Series` whose index is wine prices and whose values is the maximum number of points a wine costing that much was given in a review. Sort the values by price, ascending (so that `4.0` dollars is at the top and `3300.0` dollars is at the bottom)."
   ]
  },
  {
   "cell_type": "code",
   "execution_count": 4,
   "id": "9e1613b6",
   "metadata": {
    "execution": {
     "iopub.execute_input": "2022-08-07T18:46:40.872748Z",
     "iopub.status.busy": "2022-08-07T18:46:40.872385Z",
     "iopub.status.idle": "2022-08-07T18:46:40.884076Z",
     "shell.execute_reply": "2022-08-07T18:46:40.883468Z"
    },
    "papermill": {
     "duration": 0.01931,
     "end_time": "2022-08-07T18:46:40.885707",
     "exception": false,
     "start_time": "2022-08-07T18:46:40.866397",
     "status": "completed"
    },
    "tags": []
   },
   "outputs": [
    {
     "data": {
      "application/javascript": [
       "parent.postMessage({\"jupyterEvent\": \"custom.exercise_interaction\", \"data\": {\"outcomeType\": 1, \"valueTowardsCompletion\": 0.16666666666666666, \"interactionType\": 1, \"questionType\": 1, \"questionId\": \"2_BestRatingPerPrice\", \"learnToolsVersion\": \"0.3.4\", \"failureMessage\": \"\", \"exceptionClass\": \"\", \"trace\": \"\"}}, \"*\")"
      ],
      "text/plain": [
       "<IPython.core.display.Javascript object>"
      ]
     },
     "metadata": {},
     "output_type": "display_data"
    },
    {
     "data": {
      "text/markdown": [
       "<span style=\"color:#33cc33\">Correct</span>"
      ],
      "text/plain": [
       "Correct"
      ]
     },
     "metadata": {},
     "output_type": "display_data"
    }
   ],
   "source": [
    "best_rating_per_price = pd.Series(reviews.groupby(\"price\")[\"points\"].max())\n",
    "\n",
    "# Check your answer\n",
    "q2.check()"
   ]
  },
  {
   "cell_type": "code",
   "execution_count": 5,
   "id": "22a4b585",
   "metadata": {
    "execution": {
     "iopub.execute_input": "2022-08-07T18:46:40.897962Z",
     "iopub.status.busy": "2022-08-07T18:46:40.897170Z",
     "iopub.status.idle": "2022-08-07T18:46:40.901187Z",
     "shell.execute_reply": "2022-08-07T18:46:40.900268Z"
    },
    "papermill": {
     "duration": 0.011938,
     "end_time": "2022-08-07T18:46:40.902897",
     "exception": false,
     "start_time": "2022-08-07T18:46:40.890959",
     "status": "completed"
    },
    "tags": []
   },
   "outputs": [],
   "source": [
    "#q2.hint()\n",
    "#q2.solution()"
   ]
  },
  {
   "cell_type": "markdown",
   "id": "e4e2d115",
   "metadata": {
    "papermill": {
     "duration": 0.004805,
     "end_time": "2022-08-07T18:46:40.912857",
     "exception": false,
     "start_time": "2022-08-07T18:46:40.908052",
     "status": "completed"
    },
    "tags": []
   },
   "source": [
    "## 3.\n",
    "What are the minimum and maximum prices for each `variety` of wine? Create a `DataFrame` whose index is the `variety` category from the dataset and whose values are the `min` and `max` values thereof."
   ]
  },
  {
   "cell_type": "code",
   "execution_count": 6,
   "id": "c18f862e",
   "metadata": {
    "execution": {
     "iopub.execute_input": "2022-08-07T18:46:40.925070Z",
     "iopub.status.busy": "2022-08-07T18:46:40.924758Z",
     "iopub.status.idle": "2022-08-07T18:46:40.947046Z",
     "shell.execute_reply": "2022-08-07T18:46:40.946047Z"
    },
    "papermill": {
     "duration": 0.030702,
     "end_time": "2022-08-07T18:46:40.948755",
     "exception": false,
     "start_time": "2022-08-07T18:46:40.918053",
     "status": "completed"
    },
    "tags": []
   },
   "outputs": [
    {
     "data": {
      "application/javascript": [
       "parent.postMessage({\"jupyterEvent\": \"custom.exercise_interaction\", \"data\": {\"outcomeType\": 1, \"valueTowardsCompletion\": 0.16666666666666666, \"interactionType\": 1, \"questionType\": 1, \"questionId\": \"3_PriceExtremes\", \"learnToolsVersion\": \"0.3.4\", \"failureMessage\": \"\", \"exceptionClass\": \"\", \"trace\": \"\"}}, \"*\")"
      ],
      "text/plain": [
       "<IPython.core.display.Javascript object>"
      ]
     },
     "metadata": {},
     "output_type": "display_data"
    },
    {
     "data": {
      "text/markdown": [
       "<span style=\"color:#33cc33\">Correct</span>"
      ],
      "text/plain": [
       "Correct"
      ]
     },
     "metadata": {},
     "output_type": "display_data"
    }
   ],
   "source": [
    "price_extremes = reviews.groupby(['variety']).price.agg([min, max])\n",
    "# Check your answer\n",
    "q3.check()"
   ]
  },
  {
   "cell_type": "code",
   "execution_count": 7,
   "id": "21baca03",
   "metadata": {
    "execution": {
     "iopub.execute_input": "2022-08-07T18:46:40.960967Z",
     "iopub.status.busy": "2022-08-07T18:46:40.960650Z",
     "iopub.status.idle": "2022-08-07T18:46:40.964391Z",
     "shell.execute_reply": "2022-08-07T18:46:40.963581Z"
    },
    "papermill": {
     "duration": 0.012029,
     "end_time": "2022-08-07T18:46:40.966187",
     "exception": false,
     "start_time": "2022-08-07T18:46:40.954158",
     "status": "completed"
    },
    "tags": []
   },
   "outputs": [],
   "source": [
    "#q3.hint()\n",
    "#q3.solution()"
   ]
  },
  {
   "cell_type": "markdown",
   "id": "49658a44",
   "metadata": {
    "papermill": {
     "duration": 0.00505,
     "end_time": "2022-08-07T18:46:40.977172",
     "exception": false,
     "start_time": "2022-08-07T18:46:40.972122",
     "status": "completed"
    },
    "tags": []
   },
   "source": [
    "## 4.\n",
    "What are the most expensive wine varieties? Create a variable `sorted_varieties` containing a copy of the dataframe from the previous question where varieties are sorted in descending order based on minimum price, then on maximum price (to break ties)."
   ]
  },
  {
   "cell_type": "code",
   "execution_count": 8,
   "id": "a7673a61",
   "metadata": {
    "execution": {
     "iopub.execute_input": "2022-08-07T18:46:40.989073Z",
     "iopub.status.busy": "2022-08-07T18:46:40.988774Z",
     "iopub.status.idle": "2022-08-07T18:46:40.996932Z",
     "shell.execute_reply": "2022-08-07T18:46:40.996346Z"
    },
    "papermill": {
     "duration": 0.015871,
     "end_time": "2022-08-07T18:46:40.998345",
     "exception": false,
     "start_time": "2022-08-07T18:46:40.982474",
     "status": "completed"
    },
    "tags": []
   },
   "outputs": [
    {
     "data": {
      "application/javascript": [
       "parent.postMessage({\"jupyterEvent\": \"custom.exercise_interaction\", \"data\": {\"outcomeType\": 1, \"valueTowardsCompletion\": 0.16666666666666666, \"interactionType\": 1, \"questionType\": 1, \"questionId\": \"4_SortedVarieties\", \"learnToolsVersion\": \"0.3.4\", \"failureMessage\": \"\", \"exceptionClass\": \"\", \"trace\": \"\"}}, \"*\")"
      ],
      "text/plain": [
       "<IPython.core.display.Javascript object>"
      ]
     },
     "metadata": {},
     "output_type": "display_data"
    },
    {
     "data": {
      "text/markdown": [
       "<span style=\"color:#33cc33\">Correct</span>"
      ],
      "text/plain": [
       "Correct"
      ]
     },
     "metadata": {},
     "output_type": "display_data"
    }
   ],
   "source": [
    "sorted_varieties = price_extremes.sort_values(by = [\"min\", \"max\"], ascending = False)\n",
    "\n",
    "# Check your answer\n",
    "q4.check()"
   ]
  },
  {
   "cell_type": "code",
   "execution_count": 9,
   "id": "c89ff917",
   "metadata": {
    "execution": {
     "iopub.execute_input": "2022-08-07T18:46:41.010435Z",
     "iopub.status.busy": "2022-08-07T18:46:41.010153Z",
     "iopub.status.idle": "2022-08-07T18:46:41.013926Z",
     "shell.execute_reply": "2022-08-07T18:46:41.013063Z"
    },
    "papermill": {
     "duration": 0.011681,
     "end_time": "2022-08-07T18:46:41.015564",
     "exception": false,
     "start_time": "2022-08-07T18:46:41.003883",
     "status": "completed"
    },
    "tags": []
   },
   "outputs": [],
   "source": [
    "#q4.hint()\n",
    "#q4.solution()"
   ]
  },
  {
   "cell_type": "markdown",
   "id": "07230718",
   "metadata": {
    "papermill": {
     "duration": 0.005554,
     "end_time": "2022-08-07T18:46:41.026811",
     "exception": false,
     "start_time": "2022-08-07T18:46:41.021257",
     "status": "completed"
    },
    "tags": []
   },
   "source": [
    "## 5.\n",
    "Create a `Series` whose index is reviewers and whose values is the average review score given out by that reviewer. Hint: you will need the `taster_name` and `points` columns."
   ]
  },
  {
   "cell_type": "code",
   "execution_count": 10,
   "id": "eb7ed678",
   "metadata": {
    "execution": {
     "iopub.execute_input": "2022-08-07T18:46:41.040041Z",
     "iopub.status.busy": "2022-08-07T18:46:41.039705Z",
     "iopub.status.idle": "2022-08-07T18:46:41.056669Z",
     "shell.execute_reply": "2022-08-07T18:46:41.056068Z"
    },
    "papermill": {
     "duration": 0.025721,
     "end_time": "2022-08-07T18:46:41.058322",
     "exception": false,
     "start_time": "2022-08-07T18:46:41.032601",
     "status": "completed"
    },
    "tags": []
   },
   "outputs": [
    {
     "data": {
      "application/javascript": [
       "parent.postMessage({\"jupyterEvent\": \"custom.exercise_interaction\", \"data\": {\"outcomeType\": 1, \"valueTowardsCompletion\": 0.16666666666666666, \"interactionType\": 1, \"questionType\": 1, \"questionId\": \"5_ReviewerMeanRatings\", \"learnToolsVersion\": \"0.3.4\", \"failureMessage\": \"\", \"exceptionClass\": \"\", \"trace\": \"\"}}, \"*\")"
      ],
      "text/plain": [
       "<IPython.core.display.Javascript object>"
      ]
     },
     "metadata": {},
     "output_type": "display_data"
    },
    {
     "data": {
      "text/markdown": [
       "<span style=\"color:#33cc33\">Correct</span>"
      ],
      "text/plain": [
       "Correct"
      ]
     },
     "metadata": {},
     "output_type": "display_data"
    }
   ],
   "source": [
    "reviewer_mean_ratings = reviews.groupby(\"taster_name\").points.mean()\n",
    "\n",
    "# Check your answer\n",
    "q5.check()"
   ]
  },
  {
   "cell_type": "code",
   "execution_count": 11,
   "id": "34997c96",
   "metadata": {
    "execution": {
     "iopub.execute_input": "2022-08-07T18:46:41.071292Z",
     "iopub.status.busy": "2022-08-07T18:46:41.070984Z",
     "iopub.status.idle": "2022-08-07T18:46:41.074282Z",
     "shell.execute_reply": "2022-08-07T18:46:41.073613Z"
    },
    "papermill": {
     "duration": 0.011922,
     "end_time": "2022-08-07T18:46:41.075960",
     "exception": false,
     "start_time": "2022-08-07T18:46:41.064038",
     "status": "completed"
    },
    "tags": []
   },
   "outputs": [],
   "source": [
    "#q5.hint()\n",
    "#q5.solution()"
   ]
  },
  {
   "cell_type": "markdown",
   "id": "dc9aa232",
   "metadata": {
    "papermill": {
     "duration": 0.005349,
     "end_time": "2022-08-07T18:46:41.087289",
     "exception": false,
     "start_time": "2022-08-07T18:46:41.081940",
     "status": "completed"
    },
    "tags": []
   },
   "source": [
    "Are there significant differences in the average scores assigned by the various reviewers? Run the cell below to use the `describe()` method to see a summary of the range of values."
   ]
  },
  {
   "cell_type": "code",
   "execution_count": 12,
   "id": "e6f65f5d",
   "metadata": {
    "execution": {
     "iopub.execute_input": "2022-08-07T18:46:41.100144Z",
     "iopub.status.busy": "2022-08-07T18:46:41.099580Z",
     "iopub.status.idle": "2022-08-07T18:46:41.110434Z",
     "shell.execute_reply": "2022-08-07T18:46:41.109294Z"
    },
    "papermill": {
     "duration": 0.019504,
     "end_time": "2022-08-07T18:46:41.112351",
     "exception": false,
     "start_time": "2022-08-07T18:46:41.092847",
     "status": "completed"
    },
    "tags": []
   },
   "outputs": [
    {
     "data": {
      "text/plain": [
       "count    19.000000\n",
       "mean     88.233026\n",
       "std       1.243610\n",
       "min      85.855422\n",
       "25%      87.323501\n",
       "50%      88.536235\n",
       "75%      88.975256\n",
       "max      90.562551\n",
       "Name: points, dtype: float64"
      ]
     },
     "execution_count": 12,
     "metadata": {},
     "output_type": "execute_result"
    }
   ],
   "source": [
    "reviewer_mean_ratings.describe()"
   ]
  },
  {
   "cell_type": "markdown",
   "id": "b895741a",
   "metadata": {
    "papermill": {
     "duration": 0.005694,
     "end_time": "2022-08-07T18:46:41.124225",
     "exception": false,
     "start_time": "2022-08-07T18:46:41.118531",
     "status": "completed"
    },
    "tags": []
   },
   "source": [
    "## 6.\n",
    "What combination of countries and varieties are most common? Create a `Series` whose index is a `MultiIndex`of `{country, variety}` pairs. For example, a pinot noir produced in the US should map to `{\"US\", \"Pinot Noir\"}`. Sort the values in the `Series` in descending order based on wine count."
   ]
  },
  {
   "cell_type": "code",
   "execution_count": 13,
   "id": "db21d00b",
   "metadata": {
    "execution": {
     "iopub.execute_input": "2022-08-07T18:46:41.137968Z",
     "iopub.status.busy": "2022-08-07T18:46:41.137395Z",
     "iopub.status.idle": "2022-08-07T18:46:41.176400Z",
     "shell.execute_reply": "2022-08-07T18:46:41.175339Z"
    },
    "papermill": {
     "duration": 0.047953,
     "end_time": "2022-08-07T18:46:41.178236",
     "exception": false,
     "start_time": "2022-08-07T18:46:41.130283",
     "status": "completed"
    },
    "tags": []
   },
   "outputs": [
    {
     "name": "stdout",
     "output_type": "stream",
     "text": [
      "country  variety                 \n",
      "US       Pinot Noir                  9885\n",
      "         Cabernet Sauvignon          7315\n",
      "         Chardonnay                  6801\n",
      "France   Bordeaux-style Red Blend    4725\n",
      "Italy    Red Blend                   3624\n",
      "                                     ... \n",
      "Mexico   Cinsault                       1\n",
      "         Grenache                       1\n",
      "         Merlot                         1\n",
      "         Rosado                         1\n",
      "Uruguay  White Blend                    1\n",
      "Name: variety, Length: 1612, dtype: int64\n"
     ]
    },
    {
     "data": {
      "application/javascript": [
       "parent.postMessage({\"jupyterEvent\": \"custom.exercise_interaction\", \"data\": {\"outcomeType\": 1, \"valueTowardsCompletion\": 0.16666666666666666, \"interactionType\": 1, \"questionType\": 1, \"questionId\": \"6_GroupbyCountryVariety\", \"learnToolsVersion\": \"0.3.4\", \"failureMessage\": \"\", \"exceptionClass\": \"\", \"trace\": \"\"}}, \"*\")"
      ],
      "text/plain": [
       "<IPython.core.display.Javascript object>"
      ]
     },
     "metadata": {},
     "output_type": "display_data"
    },
    {
     "data": {
      "text/markdown": [
       "<span style=\"color:#33cc33\">Correct</span>"
      ],
      "text/plain": [
       "Correct"
      ]
     },
     "metadata": {},
     "output_type": "display_data"
    }
   ],
   "source": [
    "country_variety_counts = reviews.groupby(['country', 'variety']).variety.count().sort_values(ascending = False)\n",
    "print(country_variety_counts)\n",
    "# Check your answer\n",
    "q6.check()"
   ]
  },
  {
   "cell_type": "code",
   "execution_count": 14,
   "id": "d057a91a",
   "metadata": {
    "execution": {
     "iopub.execute_input": "2022-08-07T18:46:41.192281Z",
     "iopub.status.busy": "2022-08-07T18:46:41.191984Z",
     "iopub.status.idle": "2022-08-07T18:46:41.196526Z",
     "shell.execute_reply": "2022-08-07T18:46:41.195456Z"
    },
    "papermill": {
     "duration": 0.013368,
     "end_time": "2022-08-07T18:46:41.198091",
     "exception": false,
     "start_time": "2022-08-07T18:46:41.184723",
     "status": "completed"
    },
    "tags": []
   },
   "outputs": [],
   "source": [
    "#q6.hint()\n",
    "#q6.solution()"
   ]
  },
  {
   "cell_type": "markdown",
   "id": "8761e6ac",
   "metadata": {
    "papermill": {
     "duration": 0.005918,
     "end_time": "2022-08-07T18:46:41.210187",
     "exception": false,
     "start_time": "2022-08-07T18:46:41.204269",
     "status": "completed"
    },
    "tags": []
   },
   "source": [
    "# Keep going\n",
    "\n",
    "Move on to the [**data types and missing data**](https://www.kaggle.com/residentmario/data-types-and-missing-values)."
   ]
  },
  {
   "cell_type": "markdown",
   "id": "53f45f0b",
   "metadata": {
    "papermill": {
     "duration": 0.005782,
     "end_time": "2022-08-07T18:46:41.222305",
     "exception": false,
     "start_time": "2022-08-07T18:46:41.216523",
     "status": "completed"
    },
    "tags": []
   },
   "source": [
    "---\n",
    "\n",
    "\n",
    "\n",
    "\n",
    "*Have questions or comments? Visit the [course discussion forum](https://www.kaggle.com/learn/pandas/discussion) to chat with other learners.*"
   ]
  }
 ],
 "metadata": {
  "kernelspec": {
   "display_name": "Python 3",
   "language": "python",
   "name": "python3"
  },
  "language_info": {
   "codemirror_mode": {
    "name": "ipython",
    "version": 3
   },
   "file_extension": ".py",
   "mimetype": "text/x-python",
   "name": "python",
   "nbconvert_exporter": "python",
   "pygments_lexer": "ipython3",
   "version": "3.7.12"
  },
  "papermill": {
   "default_parameters": {},
   "duration": 11.75826,
   "end_time": "2022-08-07T18:46:41.852238",
   "environment_variables": {},
   "exception": null,
   "input_path": "__notebook__.ipynb",
   "output_path": "__notebook__.ipynb",
   "parameters": {},
   "start_time": "2022-08-07T18:46:30.093978",
   "version": "2.3.4"
  }
 },
 "nbformat": 4,
 "nbformat_minor": 5
}
