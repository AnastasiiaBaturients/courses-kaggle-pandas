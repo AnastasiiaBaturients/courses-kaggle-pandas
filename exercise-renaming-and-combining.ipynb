{
 "cells": [
  {
   "cell_type": "markdown",
   "id": "00cb0241",
   "metadata": {
    "papermill": {
     "duration": 0.006726,
     "end_time": "2022-08-07T20:41:06.290877",
     "exception": false,
     "start_time": "2022-08-07T20:41:06.284151",
     "status": "completed"
    },
    "tags": []
   },
   "source": [
    "**This notebook is an exercise in the [Pandas](https://www.kaggle.com/learn/pandas) course.  You can reference the tutorial at [this link](https://www.kaggle.com/residentmario/renaming-and-combining).**\n",
    "\n",
    "---\n"
   ]
  },
  {
   "cell_type": "markdown",
   "id": "927d0522",
   "metadata": {
    "papermill": {
     "duration": 0.005244,
     "end_time": "2022-08-07T20:41:06.301525",
     "exception": false,
     "start_time": "2022-08-07T20:41:06.296281",
     "status": "completed"
    },
    "tags": []
   },
   "source": [
    "# Introduction\n",
    "\n",
    "Run the following cell to load your data and some utility functions."
   ]
  },
  {
   "cell_type": "code",
   "execution_count": 1,
   "id": "6dc27ebd",
   "metadata": {
    "execution": {
     "iopub.execute_input": "2022-08-07T20:41:06.314206Z",
     "iopub.status.busy": "2022-08-07T20:41:06.313755Z",
     "iopub.status.idle": "2022-08-07T20:41:10.069256Z",
     "shell.execute_reply": "2022-08-07T20:41:10.067973Z"
    },
    "papermill": {
     "duration": 3.765319,
     "end_time": "2022-08-07T20:41:10.072095",
     "exception": false,
     "start_time": "2022-08-07T20:41:06.306776",
     "status": "completed"
    },
    "tags": []
   },
   "outputs": [
    {
     "name": "stdout",
     "output_type": "stream",
     "text": [
      "Setup complete.\n"
     ]
    }
   ],
   "source": [
    "import pandas as pd\n",
    "\n",
    "reviews = pd.read_csv(\"../input/wine-reviews/winemag-data-130k-v2.csv\", index_col=0)\n",
    "\n",
    "from learntools.core import binder; binder.bind(globals())\n",
    "from learntools.pandas.renaming_and_combining import *\n",
    "print(\"Setup complete.\")"
   ]
  },
  {
   "cell_type": "markdown",
   "id": "0bb52d13",
   "metadata": {
    "papermill": {
     "duration": 0.005133,
     "end_time": "2022-08-07T20:41:10.082758",
     "exception": false,
     "start_time": "2022-08-07T20:41:10.077625",
     "status": "completed"
    },
    "tags": []
   },
   "source": [
    "# Exercises\n",
    "\n",
    "View the first several lines of your data by running the cell below:"
   ]
  },
  {
   "cell_type": "code",
   "execution_count": 2,
   "id": "4aac089c",
   "metadata": {
    "execution": {
     "iopub.execute_input": "2022-08-07T20:41:10.096207Z",
     "iopub.status.busy": "2022-08-07T20:41:10.094934Z",
     "iopub.status.idle": "2022-08-07T20:41:10.120116Z",
     "shell.execute_reply": "2022-08-07T20:41:10.119059Z"
    },
    "papermill": {
     "duration": 0.035514,
     "end_time": "2022-08-07T20:41:10.123633",
     "exception": false,
     "start_time": "2022-08-07T20:41:10.088119",
     "status": "completed"
    },
    "tags": []
   },
   "outputs": [
    {
     "data": {
      "text/html": [
       "<div>\n",
       "<style scoped>\n",
       "    .dataframe tbody tr th:only-of-type {\n",
       "        vertical-align: middle;\n",
       "    }\n",
       "\n",
       "    .dataframe tbody tr th {\n",
       "        vertical-align: top;\n",
       "    }\n",
       "\n",
       "    .dataframe thead th {\n",
       "        text-align: right;\n",
       "    }\n",
       "</style>\n",
       "<table border=\"1\" class=\"dataframe\">\n",
       "  <thead>\n",
       "    <tr style=\"text-align: right;\">\n",
       "      <th></th>\n",
       "      <th>country</th>\n",
       "      <th>description</th>\n",
       "      <th>designation</th>\n",
       "      <th>points</th>\n",
       "      <th>price</th>\n",
       "      <th>province</th>\n",
       "      <th>region_1</th>\n",
       "      <th>region_2</th>\n",
       "      <th>taster_name</th>\n",
       "      <th>taster_twitter_handle</th>\n",
       "      <th>title</th>\n",
       "      <th>variety</th>\n",
       "      <th>winery</th>\n",
       "    </tr>\n",
       "  </thead>\n",
       "  <tbody>\n",
       "    <tr>\n",
       "      <th>0</th>\n",
       "      <td>Italy</td>\n",
       "      <td>Aromas include tropical fruit, broom, brimston...</td>\n",
       "      <td>Vulkà Bianco</td>\n",
       "      <td>87</td>\n",
       "      <td>NaN</td>\n",
       "      <td>Sicily &amp; Sardinia</td>\n",
       "      <td>Etna</td>\n",
       "      <td>NaN</td>\n",
       "      <td>Kerin O’Keefe</td>\n",
       "      <td>@kerinokeefe</td>\n",
       "      <td>Nicosia 2013 Vulkà Bianco  (Etna)</td>\n",
       "      <td>White Blend</td>\n",
       "      <td>Nicosia</td>\n",
       "    </tr>\n",
       "    <tr>\n",
       "      <th>1</th>\n",
       "      <td>Portugal</td>\n",
       "      <td>This is ripe and fruity, a wine that is smooth...</td>\n",
       "      <td>Avidagos</td>\n",
       "      <td>87</td>\n",
       "      <td>15.0</td>\n",
       "      <td>Douro</td>\n",
       "      <td>NaN</td>\n",
       "      <td>NaN</td>\n",
       "      <td>Roger Voss</td>\n",
       "      <td>@vossroger</td>\n",
       "      <td>Quinta dos Avidagos 2011 Avidagos Red (Douro)</td>\n",
       "      <td>Portuguese Red</td>\n",
       "      <td>Quinta dos Avidagos</td>\n",
       "    </tr>\n",
       "    <tr>\n",
       "      <th>2</th>\n",
       "      <td>US</td>\n",
       "      <td>Tart and snappy, the flavors of lime flesh and...</td>\n",
       "      <td>NaN</td>\n",
       "      <td>87</td>\n",
       "      <td>14.0</td>\n",
       "      <td>Oregon</td>\n",
       "      <td>Willamette Valley</td>\n",
       "      <td>Willamette Valley</td>\n",
       "      <td>Paul Gregutt</td>\n",
       "      <td>@paulgwine</td>\n",
       "      <td>Rainstorm 2013 Pinot Gris (Willamette Valley)</td>\n",
       "      <td>Pinot Gris</td>\n",
       "      <td>Rainstorm</td>\n",
       "    </tr>\n",
       "    <tr>\n",
       "      <th>3</th>\n",
       "      <td>US</td>\n",
       "      <td>Pineapple rind, lemon pith and orange blossom ...</td>\n",
       "      <td>Reserve Late Harvest</td>\n",
       "      <td>87</td>\n",
       "      <td>13.0</td>\n",
       "      <td>Michigan</td>\n",
       "      <td>Lake Michigan Shore</td>\n",
       "      <td>NaN</td>\n",
       "      <td>Alexander Peartree</td>\n",
       "      <td>NaN</td>\n",
       "      <td>St. Julian 2013 Reserve Late Harvest Riesling ...</td>\n",
       "      <td>Riesling</td>\n",
       "      <td>St. Julian</td>\n",
       "    </tr>\n",
       "    <tr>\n",
       "      <th>4</th>\n",
       "      <td>US</td>\n",
       "      <td>Much like the regular bottling from 2012, this...</td>\n",
       "      <td>Vintner's Reserve Wild Child Block</td>\n",
       "      <td>87</td>\n",
       "      <td>65.0</td>\n",
       "      <td>Oregon</td>\n",
       "      <td>Willamette Valley</td>\n",
       "      <td>Willamette Valley</td>\n",
       "      <td>Paul Gregutt</td>\n",
       "      <td>@paulgwine</td>\n",
       "      <td>Sweet Cheeks 2012 Vintner's Reserve Wild Child...</td>\n",
       "      <td>Pinot Noir</td>\n",
       "      <td>Sweet Cheeks</td>\n",
       "    </tr>\n",
       "  </tbody>\n",
       "</table>\n",
       "</div>"
      ],
      "text/plain": [
       "    country                                        description  \\\n",
       "0     Italy  Aromas include tropical fruit, broom, brimston...   \n",
       "1  Portugal  This is ripe and fruity, a wine that is smooth...   \n",
       "2        US  Tart and snappy, the flavors of lime flesh and...   \n",
       "3        US  Pineapple rind, lemon pith and orange blossom ...   \n",
       "4        US  Much like the regular bottling from 2012, this...   \n",
       "\n",
       "                          designation  points  price           province  \\\n",
       "0                        Vulkà Bianco      87    NaN  Sicily & Sardinia   \n",
       "1                            Avidagos      87   15.0              Douro   \n",
       "2                                 NaN      87   14.0             Oregon   \n",
       "3                Reserve Late Harvest      87   13.0           Michigan   \n",
       "4  Vintner's Reserve Wild Child Block      87   65.0             Oregon   \n",
       "\n",
       "              region_1           region_2         taster_name  \\\n",
       "0                 Etna                NaN       Kerin O’Keefe   \n",
       "1                  NaN                NaN          Roger Voss   \n",
       "2    Willamette Valley  Willamette Valley        Paul Gregutt   \n",
       "3  Lake Michigan Shore                NaN  Alexander Peartree   \n",
       "4    Willamette Valley  Willamette Valley        Paul Gregutt   \n",
       "\n",
       "  taster_twitter_handle                                              title  \\\n",
       "0          @kerinokeefe                  Nicosia 2013 Vulkà Bianco  (Etna)   \n",
       "1            @vossroger      Quinta dos Avidagos 2011 Avidagos Red (Douro)   \n",
       "2           @paulgwine       Rainstorm 2013 Pinot Gris (Willamette Valley)   \n",
       "3                   NaN  St. Julian 2013 Reserve Late Harvest Riesling ...   \n",
       "4           @paulgwine   Sweet Cheeks 2012 Vintner's Reserve Wild Child...   \n",
       "\n",
       "          variety               winery  \n",
       "0     White Blend              Nicosia  \n",
       "1  Portuguese Red  Quinta dos Avidagos  \n",
       "2      Pinot Gris            Rainstorm  \n",
       "3        Riesling           St. Julian  \n",
       "4      Pinot Noir         Sweet Cheeks  "
      ]
     },
     "execution_count": 2,
     "metadata": {},
     "output_type": "execute_result"
    }
   ],
   "source": [
    "reviews.head()"
   ]
  },
  {
   "cell_type": "markdown",
   "id": "aade2326",
   "metadata": {
    "papermill": {
     "duration": 0.005417,
     "end_time": "2022-08-07T20:41:10.134952",
     "exception": false,
     "start_time": "2022-08-07T20:41:10.129535",
     "status": "completed"
    },
    "tags": []
   },
   "source": [
    "## 1.\n",
    "`region_1` and `region_2` are pretty uninformative names for locale columns in the dataset. Create a copy of `reviews` with these columns renamed to `region` and `locale`, respectively."
   ]
  },
  {
   "cell_type": "code",
   "execution_count": 3,
   "id": "fbae1519",
   "metadata": {
    "execution": {
     "iopub.execute_input": "2022-08-07T20:41:10.148179Z",
     "iopub.status.busy": "2022-08-07T20:41:10.147783Z",
     "iopub.status.idle": "2022-08-07T20:41:10.183580Z",
     "shell.execute_reply": "2022-08-07T20:41:10.182348Z"
    },
    "papermill": {
     "duration": 0.045263,
     "end_time": "2022-08-07T20:41:10.185958",
     "exception": false,
     "start_time": "2022-08-07T20:41:10.140695",
     "status": "completed"
    },
    "tags": []
   },
   "outputs": [
    {
     "data": {
      "application/javascript": [
       "parent.postMessage({\"jupyterEvent\": \"custom.exercise_interaction\", \"data\": {\"outcomeType\": 1, \"valueTowardsCompletion\": 0.25, \"interactionType\": 1, \"questionType\": 1, \"questionId\": \"1_RenameCols\", \"learnToolsVersion\": \"0.3.4\", \"failureMessage\": \"\", \"exceptionClass\": \"\", \"trace\": \"\"}}, \"*\")"
      ],
      "text/plain": [
       "<IPython.core.display.Javascript object>"
      ]
     },
     "metadata": {},
     "output_type": "display_data"
    },
    {
     "data": {
      "text/markdown": [
       "<span style=\"color:#33cc33\">Correct</span>"
      ],
      "text/plain": [
       "Correct"
      ]
     },
     "metadata": {},
     "output_type": "display_data"
    }
   ],
   "source": [
    "# Your code here\n",
    "renamed = reviews.rename(columns = {\"region_1\":\"region\", \"region_2\":\"locale\"})\n",
    "\n",
    "\n",
    "# Check your answer\n",
    "q1.check()"
   ]
  },
  {
   "cell_type": "code",
   "execution_count": 4,
   "id": "f10c3915",
   "metadata": {
    "execution": {
     "iopub.execute_input": "2022-08-07T20:41:10.200973Z",
     "iopub.status.busy": "2022-08-07T20:41:10.199739Z",
     "iopub.status.idle": "2022-08-07T20:41:10.204950Z",
     "shell.execute_reply": "2022-08-07T20:41:10.204144Z"
    },
    "papermill": {
     "duration": 0.015151,
     "end_time": "2022-08-07T20:41:10.207216",
     "exception": false,
     "start_time": "2022-08-07T20:41:10.192065",
     "status": "completed"
    },
    "tags": []
   },
   "outputs": [],
   "source": [
    "#q1.hint()\n",
    "#q1.solution()"
   ]
  },
  {
   "cell_type": "markdown",
   "id": "c81288ba",
   "metadata": {
    "papermill": {
     "duration": 0.00558,
     "end_time": "2022-08-07T20:41:10.218781",
     "exception": false,
     "start_time": "2022-08-07T20:41:10.213201",
     "status": "completed"
    },
    "tags": []
   },
   "source": [
    "## 2.\n",
    "Set the index name in the dataset to `wines`."
   ]
  },
  {
   "cell_type": "code",
   "execution_count": 5,
   "id": "8bf80249",
   "metadata": {
    "execution": {
     "iopub.execute_input": "2022-08-07T20:41:10.232902Z",
     "iopub.status.busy": "2022-08-07T20:41:10.231787Z",
     "iopub.status.idle": "2022-08-07T20:41:10.269874Z",
     "shell.execute_reply": "2022-08-07T20:41:10.267684Z"
    },
    "papermill": {
     "duration": 0.047857,
     "end_time": "2022-08-07T20:41:10.272461",
     "exception": false,
     "start_time": "2022-08-07T20:41:10.224604",
     "status": "completed"
    },
    "tags": []
   },
   "outputs": [
    {
     "data": {
      "application/javascript": [
       "parent.postMessage({\"jupyterEvent\": \"custom.exercise_interaction\", \"data\": {\"outcomeType\": 1, \"valueTowardsCompletion\": 0.25, \"interactionType\": 1, \"questionType\": 1, \"questionId\": \"2_RenameIndex\", \"learnToolsVersion\": \"0.3.4\", \"failureMessage\": \"\", \"exceptionClass\": \"\", \"trace\": \"\"}}, \"*\")"
      ],
      "text/plain": [
       "<IPython.core.display.Javascript object>"
      ]
     },
     "metadata": {},
     "output_type": "display_data"
    },
    {
     "data": {
      "text/markdown": [
       "<span style=\"color:#33cc33\">Correct</span>"
      ],
      "text/plain": [
       "Correct"
      ]
     },
     "metadata": {},
     "output_type": "display_data"
    }
   ],
   "source": [
    "reindexed = reviews.rename_axis(\"wines\", axis=0)\n",
    "# Check your answer\n",
    "q2.check()"
   ]
  },
  {
   "cell_type": "code",
   "execution_count": 6,
   "id": "4d87c474",
   "metadata": {
    "execution": {
     "iopub.execute_input": "2022-08-07T20:41:10.286937Z",
     "iopub.status.busy": "2022-08-07T20:41:10.286515Z",
     "iopub.status.idle": "2022-08-07T20:41:10.291550Z",
     "shell.execute_reply": "2022-08-07T20:41:10.290261Z"
    },
    "papermill": {
     "duration": 0.015095,
     "end_time": "2022-08-07T20:41:10.293829",
     "exception": false,
     "start_time": "2022-08-07T20:41:10.278734",
     "status": "completed"
    },
    "tags": []
   },
   "outputs": [],
   "source": [
    "#q2.hint()\n",
    "#q2.solution()"
   ]
  },
  {
   "cell_type": "markdown",
   "id": "e785100e",
   "metadata": {
    "papermill": {
     "duration": 0.005754,
     "end_time": "2022-08-07T20:41:10.305895",
     "exception": false,
     "start_time": "2022-08-07T20:41:10.300141",
     "status": "completed"
    },
    "tags": []
   },
   "source": [
    "## 3.\n",
    "The [Things on Reddit](https://www.kaggle.com/residentmario/things-on-reddit/data) dataset includes product links from a selection of top-ranked forums (\"subreddits\") on reddit.com. Run the cell below to load a dataframe of products mentioned on the */r/gaming* subreddit and another dataframe for products mentioned on the *r//movies* subreddit."
   ]
  },
  {
   "cell_type": "code",
   "execution_count": 7,
   "id": "a09a9243",
   "metadata": {
    "execution": {
     "iopub.execute_input": "2022-08-07T20:41:10.320352Z",
     "iopub.status.busy": "2022-08-07T20:41:10.319142Z",
     "iopub.status.idle": "2022-08-07T20:41:10.333834Z",
     "shell.execute_reply": "2022-08-07T20:41:10.333044Z"
    },
    "papermill": {
     "duration": 0.024328,
     "end_time": "2022-08-07T20:41:10.336187",
     "exception": false,
     "start_time": "2022-08-07T20:41:10.311859",
     "status": "completed"
    },
    "tags": []
   },
   "outputs": [],
   "source": [
    "gaming_products = pd.read_csv(\"../input/things-on-reddit/top-things/top-things/reddits/g/gaming.csv\")\n",
    "gaming_products['subreddit'] = \"r/gaming\"\n",
    "movie_products = pd.read_csv(\"../input/things-on-reddit/top-things/top-things/reddits/m/movies.csv\")\n",
    "movie_products['subreddit'] = \"r/movies\""
   ]
  },
  {
   "cell_type": "markdown",
   "id": "4aa163e9",
   "metadata": {
    "papermill": {
     "duration": 0.006582,
     "end_time": "2022-08-07T20:41:10.348823",
     "exception": false,
     "start_time": "2022-08-07T20:41:10.342241",
     "status": "completed"
    },
    "tags": []
   },
   "source": [
    "Create a `DataFrame` of products mentioned on *either* subreddit."
   ]
  },
  {
   "cell_type": "code",
   "execution_count": 8,
   "id": "e7033562",
   "metadata": {
    "execution": {
     "iopub.execute_input": "2022-08-07T20:41:10.363119Z",
     "iopub.status.busy": "2022-08-07T20:41:10.362141Z",
     "iopub.status.idle": "2022-08-07T20:41:10.374506Z",
     "shell.execute_reply": "2022-08-07T20:41:10.373690Z"
    },
    "papermill": {
     "duration": 0.02188,
     "end_time": "2022-08-07T20:41:10.376635",
     "exception": false,
     "start_time": "2022-08-07T20:41:10.354755",
     "status": "completed"
    },
    "tags": []
   },
   "outputs": [
    {
     "data": {
      "application/javascript": [
       "parent.postMessage({\"jupyterEvent\": \"custom.exercise_interaction\", \"data\": {\"outcomeType\": 1, \"valueTowardsCompletion\": 0.25, \"interactionType\": 1, \"questionType\": 2, \"questionId\": \"3_ConcatReddit\", \"learnToolsVersion\": \"0.3.4\", \"failureMessage\": \"\", \"exceptionClass\": \"\", \"trace\": \"\"}}, \"*\")"
      ],
      "text/plain": [
       "<IPython.core.display.Javascript object>"
      ]
     },
     "metadata": {},
     "output_type": "display_data"
    },
    {
     "data": {
      "text/markdown": [
       "<span style=\"color:#33cc33\">Correct</span>"
      ],
      "text/plain": [
       "Correct"
      ]
     },
     "metadata": {},
     "output_type": "display_data"
    }
   ],
   "source": [
    "combined_products = pd.concat([gaming_products, movie_products])\n",
    "\n",
    "# Check your answer\n",
    "q3.check()"
   ]
  },
  {
   "cell_type": "code",
   "execution_count": 9,
   "id": "46d35d29",
   "metadata": {
    "execution": {
     "iopub.execute_input": "2022-08-07T20:41:10.391218Z",
     "iopub.status.busy": "2022-08-07T20:41:10.390612Z",
     "iopub.status.idle": "2022-08-07T20:41:10.394318Z",
     "shell.execute_reply": "2022-08-07T20:41:10.393517Z"
    },
    "papermill": {
     "duration": 0.013461,
     "end_time": "2022-08-07T20:41:10.396319",
     "exception": false,
     "start_time": "2022-08-07T20:41:10.382858",
     "status": "completed"
    },
    "tags": []
   },
   "outputs": [],
   "source": [
    "#q3.hint()\n",
    "#q3.solution()"
   ]
  },
  {
   "cell_type": "markdown",
   "id": "b07335f1",
   "metadata": {
    "papermill": {
     "duration": 0.00599,
     "end_time": "2022-08-07T20:41:10.408774",
     "exception": false,
     "start_time": "2022-08-07T20:41:10.402784",
     "status": "completed"
    },
    "tags": []
   },
   "source": [
    "## 4.\n",
    "The [Powerlifting Database](https://www.kaggle.com/open-powerlifting/powerlifting-database) dataset on Kaggle includes one CSV table for powerlifting meets and a separate one for powerlifting competitors. Run the cell below to load these datasets into dataframes:"
   ]
  },
  {
   "cell_type": "code",
   "execution_count": 10,
   "id": "f9dd364f",
   "metadata": {
    "execution": {
     "iopub.execute_input": "2022-08-07T20:41:10.423428Z",
     "iopub.status.busy": "2022-08-07T20:41:10.422715Z",
     "iopub.status.idle": "2022-08-07T20:41:11.193131Z",
     "shell.execute_reply": "2022-08-07T20:41:11.192076Z"
    },
    "papermill": {
     "duration": 0.780783,
     "end_time": "2022-08-07T20:41:11.195745",
     "exception": false,
     "start_time": "2022-08-07T20:41:10.414962",
     "status": "completed"
    },
    "tags": []
   },
   "outputs": [],
   "source": [
    "powerlifting_meets = pd.read_csv(\"../input/powerlifting-database/meets.csv\")\n",
    "powerlifting_competitors = pd.read_csv(\"../input/powerlifting-database/openpowerlifting.csv\")"
   ]
  },
  {
   "cell_type": "markdown",
   "id": "83f300cf",
   "metadata": {
    "papermill": {
     "duration": 0.006089,
     "end_time": "2022-08-07T20:41:11.208253",
     "exception": false,
     "start_time": "2022-08-07T20:41:11.202164",
     "status": "completed"
    },
    "tags": []
   },
   "source": [
    "Both tables include references to a `MeetID`, a unique key for each meet (competition) included in the database. Using this, generate a dataset combining the two tables into one."
   ]
  },
  {
   "cell_type": "code",
   "execution_count": 11,
   "id": "902838ff",
   "metadata": {
    "execution": {
     "iopub.execute_input": "2022-08-07T20:41:11.222943Z",
     "iopub.status.busy": "2022-08-07T20:41:11.222325Z",
     "iopub.status.idle": "2022-08-07T20:41:12.655703Z",
     "shell.execute_reply": "2022-08-07T20:41:12.654375Z"
    },
    "papermill": {
     "duration": 1.443864,
     "end_time": "2022-08-07T20:41:12.658327",
     "exception": false,
     "start_time": "2022-08-07T20:41:11.214463",
     "status": "completed"
    },
    "tags": []
   },
   "outputs": [
    {
     "data": {
      "application/javascript": [
       "parent.postMessage({\"jupyterEvent\": \"custom.exercise_interaction\", \"data\": {\"outcomeType\": 1, \"valueTowardsCompletion\": 0.25, \"interactionType\": 1, \"questionType\": 2, \"questionId\": \"4_JoinLifting\", \"learnToolsVersion\": \"0.3.4\", \"failureMessage\": \"\", \"exceptionClass\": \"\", \"trace\": \"\"}}, \"*\")"
      ],
      "text/plain": [
       "<IPython.core.display.Javascript object>"
      ]
     },
     "metadata": {},
     "output_type": "display_data"
    },
    {
     "data": {
      "text/markdown": [
       "<span style=\"color:#33cc33\">Correct</span>"
      ],
      "text/plain": [
       "Correct"
      ]
     },
     "metadata": {},
     "output_type": "display_data"
    }
   ],
   "source": [
    "powerlifting_combined = powerlifting_meets.merge(powerlifting_competitors, how = 'left', left_on='MeetID', right_on='MeetID').set_index(\"MeetID\")\n",
    "\n",
    "# Check your answer\n",
    "q4.check()"
   ]
  },
  {
   "cell_type": "code",
   "execution_count": 12,
   "id": "bad5928f",
   "metadata": {
    "execution": {
     "iopub.execute_input": "2022-08-07T20:41:12.674181Z",
     "iopub.status.busy": "2022-08-07T20:41:12.673242Z",
     "iopub.status.idle": "2022-08-07T20:41:12.678219Z",
     "shell.execute_reply": "2022-08-07T20:41:12.676955Z"
    },
    "papermill": {
     "duration": 0.015497,
     "end_time": "2022-08-07T20:41:12.680599",
     "exception": false,
     "start_time": "2022-08-07T20:41:12.665102",
     "status": "completed"
    },
    "tags": []
   },
   "outputs": [],
   "source": [
    "#q4.hint()\n",
    "#q4.solution()"
   ]
  },
  {
   "cell_type": "markdown",
   "id": "84080968",
   "metadata": {
    "papermill": {
     "duration": 0.006294,
     "end_time": "2022-08-07T20:41:12.693820",
     "exception": false,
     "start_time": "2022-08-07T20:41:12.687526",
     "status": "completed"
    },
    "tags": []
   },
   "source": [
    "# Congratulations!\n",
    "\n",
    "You've finished the Pandas micro-course.  Many data scientists feel efficiency with Pandas is the most useful and practical skill they have, because it allows you to progress quickly in any project you have.\n",
    "\n",
    "If you'd like to apply your new skills to examining geospatial data, you're encouraged to check out our **[Geospatial Analysis](https://www.kaggle.com/learn/geospatial-analysis)** micro-course.\n",
    "\n",
    "You can also take advantage of your Pandas skills by entering a **[Kaggle Competition](https://www.kaggle.com/competitions)** or by answering a question you find interesting using **[Kaggle Datasets](https://www.kaggle.com/datasets)**."
   ]
  },
  {
   "cell_type": "markdown",
   "id": "a893165e",
   "metadata": {
    "papermill": {
     "duration": 0.006254,
     "end_time": "2022-08-07T20:41:12.706698",
     "exception": false,
     "start_time": "2022-08-07T20:41:12.700444",
     "status": "completed"
    },
    "tags": []
   },
   "source": [
    "---\n",
    "\n",
    "\n",
    "\n",
    "\n",
    "*Have questions or comments? Visit the [course discussion forum](https://www.kaggle.com/learn/pandas/discussion) to chat with other learners.*"
   ]
  }
 ],
 "metadata": {
  "kernelspec": {
   "display_name": "Python 3",
   "language": "python",
   "name": "python3"
  },
  "language_info": {
   "codemirror_mode": {
    "name": "ipython",
    "version": 3
   },
   "file_extension": ".py",
   "mimetype": "text/x-python",
   "name": "python",
   "nbconvert_exporter": "python",
   "pygments_lexer": "ipython3",
   "version": "3.7.12"
  },
  "papermill": {
   "default_parameters": {},
   "duration": 17.895102,
   "end_time": "2022-08-07T20:41:13.536820",
   "environment_variables": {},
   "exception": null,
   "input_path": "__notebook__.ipynb",
   "output_path": "__notebook__.ipynb",
   "parameters": {},
   "start_time": "2022-08-07T20:40:55.641718",
   "version": "2.3.4"
  }
 },
 "nbformat": 4,
 "nbformat_minor": 5
}
